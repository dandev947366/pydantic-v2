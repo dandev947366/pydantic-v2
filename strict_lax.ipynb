{
 "cells": [
  {
   "cell_type": "markdown",
   "metadata": {},
   "source": [
    "Strict and Lax Type Coercion"
   ]
  },
  {
   "cell_type": "code",
   "execution_count": 10,
   "metadata": {},
   "outputs": [],
   "source": [
    "from pydantic import BaseModel, ConfigDict, ValidationError"
   ]
  },
  {
   "cell_type": "code",
   "execution_count": 11,
   "metadata": {},
   "outputs": [],
   "source": [
    "class Model(BaseModel):\n",
    "    field_1: str\n",
    "    field_2: float\n",
    "    field_3: list\n",
    "    field_4: tuple"
   ]
  },
  {
   "cell_type": "code",
   "execution_count": 12,
   "metadata": {},
   "outputs": [
    {
     "name": "stdout",
     "output_type": "stream",
     "text": [
      "1 validation error for Model\n",
      "field_1\n",
      "  Input should be a valid string [type=string_type, input_value=100, input_type=int]\n",
      "    For further information visit https://errors.pydantic.dev/2.8/v/string_type\n"
     ]
    }
   ],
   "source": [
    "try:\n",
    "    Model(field_1=100, field_2=1, field_3=(1,2,3), field_4=[1,2,3])\n",
    "except ValidationError as ex:\n",
    "    print(ex)"
   ]
  },
  {
   "cell_type": "code",
   "execution_count": 13,
   "metadata": {},
   "outputs": [
    {
     "data": {
      "text/plain": [
       "Model(field_1='100', field_2=1.0, field_3=[1, 2, 3], field_4=(1, 2, 3))"
      ]
     },
     "execution_count": 13,
     "metadata": {},
     "output_type": "execute_result"
    }
   ],
   "source": [
    "Model(field_1=\"100\", field_2=1, field_3=(1,2,3), field_4=[1,2,3])"
   ]
  },
  {
   "cell_type": "code",
   "execution_count": 14,
   "metadata": {},
   "outputs": [],
   "source": [
    "class Model(BaseModel):\n",
    "    model_config = ConfigDict(strict=True) #strict mode\n",
    "    field_1: str\n",
    "    field_2: float\n",
    "    field_3: list\n",
    "    field_4: tuple"
   ]
  },
  {
   "cell_type": "code",
   "execution_count": 15,
   "metadata": {},
   "outputs": [
    {
     "name": "stdout",
     "output_type": "stream",
     "text": [
      "3 validation errors for Model\n",
      "field_1\n",
      "  Input should be a valid string [type=string_type, input_value=100, input_type=int]\n",
      "    For further information visit https://errors.pydantic.dev/2.8/v/string_type\n",
      "field_3\n",
      "  Input should be a valid list [type=list_type, input_value=(1, 2, 3), input_type=tuple]\n",
      "    For further information visit https://errors.pydantic.dev/2.8/v/list_type\n",
      "field_4\n",
      "  Input should be a valid tuple [type=tuple_type, input_value=[1, 2, 3], input_type=list]\n",
      "    For further information visit https://errors.pydantic.dev/2.8/v/tuple_type\n"
     ]
    }
   ],
   "source": [
    "try:\n",
    "    Model(field_1=100, field_2=1, field_3=(1,2,3), field_4=[1,2,3])\n",
    "except ValidationError as ex:\n",
    "    print(ex)"
   ]
  },
  {
   "cell_type": "code",
   "execution_count": 16,
   "metadata": {},
   "outputs": [],
   "source": [
    "json_data = '''\n",
    "{\n",
    "    \"field_1\": true,\n",
    "    \"field_2\": 10.5,\n",
    "    \"field_3\": 10,\n",
    "    \"field_4\": null,\n",
    "    \"field_5\": [1, 2, 3],\n",
    "    \"field_6\": {\n",
    "        \"a\":1,\n",
    "        \"b\":2,\n",
    "        \"c\":[3,4,5]\n",
    "    },\n",
    "    \"field_7\": [\n",
    "        [1, 0, 0],\n",
    "        [0, 1, 0],\n",
    "        [0, 0, 1]\n",
    "    ]\n",
    "}\n",
    "\n",
    "'''"
   ]
  },
  {
   "cell_type": "code",
   "execution_count": 17,
   "metadata": {},
   "outputs": [
    {
     "name": "stdout",
     "output_type": "stream",
     "text": [
      "{'field_1': True,\n",
      " 'field_2': 10.5,\n",
      " 'field_3': 10,\n",
      " 'field_4': None,\n",
      " 'field_5': [1, 2, 3],\n",
      " 'field_6': {'a': 1, 'b': 2, 'c': [3, 4, 5]},\n",
      " 'field_7': [[1, 0, 0], [0, 1, 0], [0, 0, 1]]}\n"
     ]
    }
   ],
   "source": [
    "import json\n",
    "from pprint import pprint\n",
    "\n",
    "data = json.loads(json_data) #deserialize data to python dict\n",
    "pprint(data)"
   ]
  },
  {
   "cell_type": "code",
   "execution_count": 18,
   "metadata": {},
   "outputs": [
    {
     "data": {
      "text/plain": [
       "int"
      ]
     },
     "execution_count": 18,
     "metadata": {},
     "output_type": "execute_result"
    }
   ],
   "source": [
    "type(data[\"field_3\"])"
   ]
  },
  {
   "cell_type": "code",
   "execution_count": 29,
   "metadata": {},
   "outputs": [],
   "source": [
    "json_data='''\n",
    "{\n",
    " \"field_1\": true,\n",
    " \"field_2\": 10.5,\n",
    " \"field_3\": 10,\n",
    " \"field_4\": null,\n",
    " \"field_5\": [1, 2, 3],\n",
    " \"field_6\": {\"a\": 1, \"b\": 2, \"c\": [3, 4, 5]},\n",
    " \"field_7\": [\"a\", \"b\", \"c\"]\n",
    "}\n",
    "'''"
   ]
  },
  {
   "cell_type": "code",
   "execution_count": 30,
   "metadata": {},
   "outputs": [],
   "source": [
    "class Model(BaseModel):\n",
    "    field_1: bool\n",
    "    field_2: float\n",
    "    field_3: int\n",
    "    field_4: str | None\n",
    "    field_5: tuple[int,...]#any length\n",
    "    field_6: dict\n",
    "    field_7: set[str]"
   ]
  },
  {
   "cell_type": "code",
   "execution_count": 31,
   "metadata": {},
   "outputs": [
    {
     "data": {
      "text/plain": [
       "Model(field_1=True, field_2=10.5, field_3=10, field_4=None, field_5=(1, 2, 3), field_6={'a': 1, 'b': 2, 'c': [3, 4, 5]}, field_7={'c', 'b', 'a'})"
      ]
     },
     "execution_count": 31,
     "metadata": {},
     "output_type": "execute_result"
    }
   ],
   "source": [
    "data = Model.model_validate_json(json_data)\n",
    "data"
   ]
  },
  {
   "cell_type": "code",
   "execution_count": 32,
   "metadata": {},
   "outputs": [
    {
     "data": {
      "text/plain": [
       "tuple"
      ]
     },
     "execution_count": 32,
     "metadata": {},
     "output_type": "execute_result"
    }
   ],
   "source": [
    "type(data.field_5)"
   ]
  },
  {
   "cell_type": "code",
   "execution_count": 35,
   "metadata": {},
   "outputs": [],
   "source": [
    "json_data='''\n",
    "{\n",
    " \"field_1\": true,\n",
    " \"field_2\": 10.5,\n",
    " \"field_3\": 10,\n",
    " \"field_4\": null,\n",
    " \"field_5\": [1, 2, 3.5],\n",
    " \"field_6\": {\"a\": 1, \"b\": 2, \"c\": [3, 4, 5]},\n",
    " \"field_7\": [\"a\", \"b\", \"c\"]\n",
    "}\n",
    "'''"
   ]
  },
  {
   "cell_type": "code",
   "execution_count": 36,
   "metadata": {},
   "outputs": [
    {
     "name": "stdout",
     "output_type": "stream",
     "text": [
      "1 validation error for Model\n",
      "field_5.2\n",
      "  Input should be a valid integer, got a number with a fractional part [type=int_from_float, input_value=3.5, input_type=float]\n",
      "    For further information visit https://errors.pydantic.dev/2.8/v/int_from_float\n"
     ]
    }
   ],
   "source": [
    "try:\n",
    "    Model.model_validate_json(json_data)\n",
    "except ValidationError as ex:\n",
    "    print(ex)"
   ]
  }
 ],
 "metadata": {
  "kernelspec": {
   "display_name": "venv",
   "language": "python",
   "name": "python3"
  },
  "language_info": {
   "codemirror_mode": {
    "name": "ipython",
    "version": 3
   },
   "file_extension": ".py",
   "mimetype": "text/x-python",
   "name": "python",
   "nbconvert_exporter": "python",
   "pygments_lexer": "ipython3",
   "version": "3.12.0"
  }
 },
 "nbformat": 4,
 "nbformat_minor": 2
}
