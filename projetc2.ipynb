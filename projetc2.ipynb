{
 "cells": [
  {
   "cell_type": "markdown",
   "metadata": {},
   "source": [
    "Project 2"
   ]
  },
  {
   "cell_type": "code",
   "execution_count": 27,
   "metadata": {},
   "outputs": [],
   "source": [
    "from enum import Enum\n",
    "from pydantic import BaseModel, ConfigDict, ValidationError\n",
    "from datetime import date\n",
    "from typing import Optional\n",
    "import json"
   ]
  },
  {
   "cell_type": "code",
   "execution_count": 28,
   "metadata": {},
   "outputs": [],
   "source": [
    "class AutomobileType(str, Enum):\n",
    "    sedan = \"Sedan\"\n",
    "    coupe = \"Coupe\"\n",
    "    convertible = \"Convertible\"\n",
    "    suv = \"SUV\"\n",
    "    truck = \"Truck\""
   ]
  },
  {
   "cell_type": "code",
   "execution_count": 29,
   "metadata": {},
   "outputs": [],
   "source": [
    "class Automobile(BaseModel):\n",
    "    model_config = ConfigDict(\n",
    "        extra=\"forbid\",\n",
    "        str_strip_whitespace=True,\n",
    "        validate_default=True,\n",
    "        validate_assignment=True,\n",
    "    )\n",
    "    manufacturer: str\n",
    "    series_name: str\n",
    "    type_: AutomobileType\n",
    "    is_electric: bool = False\n",
    "    manufactured_date: date\n",
    "    base_msrp_usd: float\n",
    "    vin: str\n",
    "    number_of_doors: int = 4\n",
    "    registration_country: Optional[str] = None\n",
    "    license_plate: Optional[str] = None"
   ]
  },
  {
   "cell_type": "code",
   "execution_count": 30,
   "metadata": {},
   "outputs": [],
   "source": [
    "data_json = '''{\n",
    "    \"manufacturer\": \"BMW\",\n",
    "    \"series_name\": \"M4\",\n",
    "    \"type_\": \"Convertible\",\n",
    "    \"is_electric\": False,\n",
    "    \"manufactured_date\" : \"2023-01-01\",\n",
    "    \"base_msrp_usd\": \"93_300\",\n",
    "    \"vin\": \"123456789\",\n",
    "    \"number_of_doors\": 2,\n",
    "    \"registration_country\": \"France\",\n",
    "    \"license_plate\": \"AAA-BBB\"\n",
    "}'''"
   ]
  },
  {
   "cell_type": "code",
   "execution_count": 31,
   "metadata": {},
   "outputs": [
    {
     "name": "stdout",
     "output_type": "stream",
     "text": [
      "[{\"type\":\"json_invalid\",\"loc\":[],\"msg\":\"Invalid JSON: expected value at line 5 column 20\",\"input\":\"{\\n    \\\"manufacturer\\\": \\\"BMW\\\",\\n    \\\"series_name\\\": \\\"M4\\\",\\n    \\\"type_\\\": \\\"Convertible\\\",\\n    \\\"is_electric\\\": False,\\n    \\\"manufactured_date\\\" : \\\"2023-01-01\\\",\\n    \\\"base_msrp_usd\\\": \\\"93_300\\\",\\n    \\\"vin\\\": \\\"123456789\\\",\\n    \\\"number_of_doors\\\": 2,\\n    \\\"registration_country\\\": \\\"France\\\",\\n    \\\"license_plate\\\": \\\"AAA-BBB\\\"\\n}\",\"ctx\":{\"error\":\"expected value at line 5 column 20\"},\"url\":\"https://errors.pydantic.dev/2.8/v/json_invalid\"}]\n"
     ]
    }
   ],
   "source": [
    "try:\n",
    "    car = Automobile.model_validate_json(data_json)\n",
    "    print(car)\n",
    "except ValidationError as e:\n",
    "    print(e.json())"
   ]
  }
 ],
 "metadata": {
  "kernelspec": {
   "display_name": "venv",
   "language": "python",
   "name": "python3"
  },
  "language_info": {
   "codemirror_mode": {
    "name": "ipython",
    "version": 3
   },
   "file_extension": ".py",
   "mimetype": "text/x-python",
   "name": "python",
   "nbconvert_exporter": "python",
   "pygments_lexer": "ipython3",
   "version": "3.12.0"
  }
 },
 "nbformat": 4,
 "nbformat_minor": 2
}
